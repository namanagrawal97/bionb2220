{
 "cells": [
  {
   "cell_type": "markdown",
   "metadata": {},
   "source": [
    "## Loading the modules and data files"
   ]
  },
  {
   "cell_type": "code",
   "execution_count": 1,
   "metadata": {},
   "outputs": [],
   "source": [
    "import pandas as pd\n",
    "\n",
    "pre=pd.read_csv('pre_clean.csv')\n",
    "post=pd.read_csv('post_clean.csv')"
   ]
  },
  {
   "cell_type": "markdown",
   "metadata": {},
   "source": [
    "### Finding students who answered both pre- and post- survey"
   ]
  },
  {
   "cell_type": "code",
   "execution_count": 3,
   "metadata": {},
   "outputs": [
    {
     "name": "stdout",
     "output_type": "stream",
     "text": [
      "['jb2333' 'lmr278' 'nac88' 'nyz4' 'tmp83' 'yk538']\n"
     ]
    }
   ],
   "source": [
    "stdnts_pre=pre['identifier'].unique()\n",
    "stdnts_post=post['identifier'].unique()\n",
    "\n",
    "import numpy as np\n",
    "\n",
    "# Find common elements\n",
    "common_elements = np.intersect1d(stdnts_pre, stdnts_post)\n",
    "\n",
    "print(common_elements)"
   ]
  },
  {
   "cell_type": "markdown",
   "metadata": {},
   "source": [
    "### Cleaning the data by only keeping common students"
   ]
  },
  {
   "cell_type": "code",
   "execution_count": 4,
   "metadata": {},
   "outputs": [],
   "source": [
    "pre = pre[pre['identifier'] != 'nyz4']\n",
    "pre = pre[pre['identifier'] != 'loc5']\n",
    "\n",
    "post = post[post['identifier'] != 'nyz4']\n",
    "post = post[post['identifier'] != 'loc5']"
   ]
  },
  {
   "cell_type": "markdown",
   "metadata": {},
   "source": [
    "### Replacing Strings with Numbers"
   ]
  },
  {
   "cell_type": "code",
   "execution_count": 5,
   "metadata": {},
   "outputs": [],
   "source": [
    "# Define the mapping\n",
    "mapping = {\n",
    "    'very low': 1,\n",
    "    'low': 2,\n",
    "    'medium': 3,\n",
    "    'high': 4,\n",
    "    'very high': 5\n",
    "}\n",
    "\n",
    "# Replace strings in columns '1' and '2' based on the mapping\n",
    "pre['1'] = pre['1'].replace(mapping)\n",
    "pre['2'] = pre['2'].replace(mapping)\n",
    "\n",
    "post['1'] = post['1'].replace(mapping)\n",
    "post['2'] = post['2'].replace(mapping)"
   ]
  },
  {
   "cell_type": "code",
   "execution_count": 7,
   "metadata": {},
   "outputs": [],
   "source": [
    "new_mapping = {\n",
    "    'Strongly disagree': 1,\n",
    "    'Somewhat disagree': 2,\n",
    "    'Neither agree nor disagree': 3,\n",
    "    'Somewhat agree': 4,\n",
    "    'Strongly agree': 5\n",
    "}\n",
    "\n",
    "# Find the index of column '2'\n",
    "col_index = pre.columns.get_loc('2')\n",
    "\n",
    "# Select all columns after '2'\n",
    "columns_after_2 = pre.columns[col_index + 1:]\n",
    "\n",
    "# Iterate over the selected columns and apply the replacement\n",
    "for column in columns_after_2:\n",
    "    pre[column] = pre[column].replace(new_mapping)\n",
    "    post[column] = post[column].replace(new_mapping)"
   ]
  },
  {
   "cell_type": "markdown",
   "metadata": {},
   "source": []
  }
 ],
 "metadata": {
  "kernelspec": {
   "display_name": "base",
   "language": "python",
   "name": "python3"
  },
  "language_info": {
   "codemirror_mode": {
    "name": "ipython",
    "version": 3
   },
   "file_extension": ".py",
   "mimetype": "text/x-python",
   "name": "python",
   "nbconvert_exporter": "python",
   "pygments_lexer": "ipython3",
   "version": "3.10.13"
  }
 },
 "nbformat": 4,
 "nbformat_minor": 2
}
